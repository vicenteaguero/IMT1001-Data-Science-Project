{
 "cells": [
  {
   "cell_type": "code",
   "execution_count": 2,
   "metadata": {},
   "outputs": [
    {
     "ename": "ModuleNotFoundError",
     "evalue": "No module named 'tensorflow'",
     "output_type": "error",
     "traceback": [
      "\u001b[1;31m---------------------------------------------------------------------------\u001b[0m",
      "\u001b[1;31mModuleNotFoundError\u001b[0m                       Traceback (most recent call last)",
      "\u001b[1;32m<ipython-input-2-9c8425a53047>\u001b[0m in \u001b[0;36m<module>\u001b[1;34m\u001b[0m\n\u001b[0;32m      6\u001b[0m \u001b[1;32mimport\u001b[0m \u001b[0mnumpy\u001b[0m \u001b[1;32mas\u001b[0m \u001b[0mnp\u001b[0m\u001b[1;33m\u001b[0m\u001b[1;33m\u001b[0m\u001b[0m\n\u001b[0;32m      7\u001b[0m \u001b[1;32mimport\u001b[0m \u001b[0mpandas\u001b[0m \u001b[1;32mas\u001b[0m \u001b[0mpd\u001b[0m\u001b[1;33m\u001b[0m\u001b[1;33m\u001b[0m\u001b[0m\n\u001b[1;32m----> 8\u001b[1;33m \u001b[1;32mimport\u001b[0m \u001b[0mMNIST\u001b[0m\u001b[1;33m\u001b[0m\u001b[1;33m\u001b[0m\u001b[0m\n\u001b[0m",
      "\u001b[1;32m~\\Desktop\\Universidad\\Tercer Semestre\\Introducción a la Ingeniería Matemática\\IMT1001-Data-Science-Project\\Módulos\\MNIST.py\u001b[0m in \u001b[0;36m<module>\u001b[1;34m\u001b[0m\n\u001b[1;32m----> 1\u001b[1;33m \u001b[1;32mimport\u001b[0m \u001b[0mtensorflow\u001b[0m \u001b[1;32mas\u001b[0m \u001b[0mtf\u001b[0m\u001b[1;33m\u001b[0m\u001b[1;33m\u001b[0m\u001b[0m\n\u001b[0m\u001b[0;32m      2\u001b[0m \u001b[1;32mimport\u001b[0m \u001b[0mnumpy\u001b[0m \u001b[1;32mas\u001b[0m \u001b[0mnp\u001b[0m\u001b[1;33m\u001b[0m\u001b[1;33m\u001b[0m\u001b[0m\n\u001b[0;32m      3\u001b[0m \u001b[1;33m(\u001b[0m\u001b[0mx_train_aux\u001b[0m\u001b[1;33m,\u001b[0m \u001b[0my_train\u001b[0m\u001b[1;33m)\u001b[0m\u001b[1;33m,\u001b[0m \u001b[1;33m(\u001b[0m\u001b[0mx_test_aux\u001b[0m\u001b[1;33m,\u001b[0m \u001b[0my_test\u001b[0m\u001b[1;33m)\u001b[0m \u001b[1;33m=\u001b[0m \u001b[0mtf\u001b[0m\u001b[1;33m.\u001b[0m\u001b[0mkeras\u001b[0m\u001b[1;33m.\u001b[0m\u001b[0mdatasets\u001b[0m\u001b[1;33m.\u001b[0m\u001b[0mmnist\u001b[0m\u001b[1;33m.\u001b[0m\u001b[0mload_data\u001b[0m\u001b[1;33m(\u001b[0m\u001b[1;33m)\u001b[0m\u001b[1;33m\u001b[0m\u001b[1;33m\u001b[0m\u001b[0m\n\u001b[0;32m      4\u001b[0m \u001b[0mx_train_aux\u001b[0m \u001b[1;33m=\u001b[0m \u001b[0mx_train_aux\u001b[0m\u001b[1;33m.\u001b[0m\u001b[0mtolist\u001b[0m\u001b[1;33m(\u001b[0m\u001b[1;33m)\u001b[0m\u001b[1;33m\u001b[0m\u001b[1;33m\u001b[0m\u001b[0m\n\u001b[0;32m      5\u001b[0m \u001b[0mx_test_aux\u001b[0m \u001b[1;33m=\u001b[0m \u001b[0mx_test_aux\u001b[0m\u001b[1;33m.\u001b[0m\u001b[0mtolist\u001b[0m\u001b[1;33m(\u001b[0m\u001b[1;33m)\u001b[0m\u001b[1;33m\u001b[0m\u001b[1;33m\u001b[0m\u001b[0m\n",
      "\u001b[1;31mModuleNotFoundError\u001b[0m: No module named 'tensorflow'"
     ]
    }
   ],
   "source": [
    "from matplotlib import pyplot as plt\n",
    "from sklearn.decomposition import PCA, TruncatedSVD\n",
    "from sklearn.manifold import TSNE, MDS, Isomap\n",
    "from random import randint\n",
    "from time import time\n",
    "import numpy as np\n",
    "import pandas as pd\n",
    "import MNIST"
   ]
  },
  {
   "cell_type": "code",
   "execution_count": null,
   "metadata": {},
   "outputs": [],
   "source": [
    "x_train = MNIST.x_train\n",
    "y_train = MNIST.y_train\n",
    "x_test = MNIST.x_test\n",
    "y_test = MNIST.y_test"
   ]
  },
  {
   "cell_type": "code",
   "execution_count": null,
   "metadata": {},
   "outputs": [],
   "source": [
    "mnist_df = pd.DataFrame(data=np.c_[x_train])\n",
    "mnist_df.insert(0, \"Label\", y_train)\n",
    "mnist_df"
   ]
  },
  {
   "cell_type": "code",
   "execution_count": null,
   "metadata": {},
   "outputs": [],
   "source": [
    "fig = plt.figure(figsize=(15, 15))\n",
    "fig.subplots_adjust(left=0, right=1, bottom=0, top=1, hspace=0.05, wspace=0.05)\n",
    "for j in range(256):\n",
    "    i = randint(0, len(x_train) - 1)\n",
    "    ax = fig.add_subplot(16, 16, j + 1, xticks=[], yticks=[])\n",
    "    ax.imshow(x_train.reshape(-1, 28, 28)[i], cmap=plt.cm.binary, interpolation='nearest')\n",
    "ax.axis(\"on\")\n",
    "fig.savefig('out.png', dpi=fig.dpi, edgecolor=\"purple\")"
   ]
  },
  {
   "cell_type": "code",
   "execution_count": null,
   "metadata": {
    "scrolled": false
   },
   "outputs": [],
   "source": [
    "plt.figure(figsize=(20, 10))\n",
    "fig.subplots_adjust(left=0, right=1, bottom=0, top=1, hspace=0.05, wspace=0.05)\n",
    "pca = PCA(n_components=2)\n",
    "proj = pca.fit_transform(x_train)\n",
    "plt.subplot(1, 2, 1)\n",
    "plt.scatter(proj[:, 0], proj[:, 1], c=y_train, cmap=\"Paired\", alpha=1, marker=\".\")\n",
    "plt.subplot(1, 2, 2)\n",
    "plt.scatter(proj[:, 0], proj[:, 1], c=y_train, cmap=\"Paired\", alpha=0.1, marker=\".\")\n",
    "plt.show()"
   ]
  },
  {
   "cell_type": "code",
   "execution_count": null,
   "metadata": {},
   "outputs": [],
   "source": [
    "pca_inicio = time()\n",
    "pca = PCA(n_components=2)\n",
    "proj = pca.fit_transform(x_train)\n",
    "pca_fin = time()"
   ]
  },
  {
   "cell_type": "code",
   "execution_count": null,
   "metadata": {},
   "outputs": [],
   "source": [
    "tsne_inicio = time()\n",
    "tsne = TSNE(n_components = 2, perplexity = 50, n_iter = 250, min_grad_norm = 1 * 10 ** (-6))\n",
    "intermediates_tsne = tsne.fit_transform(x_train)\n",
    "tsne_fin = time()"
   ]
  },
  {
   "cell_type": "code",
   "execution_count": null,
   "metadata": {},
   "outputs": [],
   "source": [
    "isomap_inicio = time()\n",
    "isomap_ = Isomap(n_components=2)\n",
    "proj_isomap = isomap_.fit_transform(x_train)\n",
    "isomap_fin = time()\n",
    "tsvd_inicio = time()\n",
    "tsvd = TruncatedSVD(n_components=2)\n",
    "proj_tsvd = tsvd.fit_transform(x_train)\n",
    "tsvd_fin = time()"
   ]
  },
  {
   "cell_type": "code",
   "execution_count": null,
   "metadata": {},
   "outputs": [],
   "source": [
    "tsvd_inicio = time()\n",
    "tsvd = TruncatedSVD(n_components=2)\n",
    "proj_tsvd = tsvd.fit_transform(x_train)\n",
    "tsvd_fin = time()"
   ]
  },
  {
   "cell_type": "code",
   "execution_count": null,
   "metadata": {},
   "outputs": [],
   "source": [
    "d = {\"PCA\": [round(pca_fin - pca_inicio, 3)], \"t-SNE\": [round(tsne_fin - tsne_inicio, 3)], \"MDS\": [round(mds_fin - mds_inicio, 3)], \\\n",
    "     \"Isomap\": [round(isomap_fin - isomap_inicio, 3)], \"T-SVD\": [round(tsvd_fin - tsvd_inicio, 3)]}\n",
    "tiempos = pd.DataFrame(data=d, index=[\"Tiempo en segundos\"])\n",
    "tiempos"
   ]
  },
  {
   "cell_type": "code",
   "execution_count": null,
   "metadata": {},
   "outputs": [],
   "source": [
    "plt.figure(figsize=(20, 20))\n",
    "plt.subplot(2, 2, 1)\n",
    "plt.scatter(intermediates_tsne[:, 0], intermediates_tsne[:, 1], c=y_train, cmap=\"Paired\")\n",
    "plt.title(\"t-SNE\", fontweight=\"extra bold\", fontsize=30)\n",
    "plt.grid(True, linewidth=1, alpha=0.1)\n",
    "plt.subplot(2, 2, 2)\n",
    "plt.scatter(intermediates_mds[:, 0], intermediates_mds[:, 1], c=y_train, cmap=\"Paired\")\n",
    "plt.title(\"MDS\", fontweight=\"extra bold\", fontsize=30)\n",
    "plt.grid(True, linewidth=1, alpha=0.1)\n",
    "plt.subplot(2, 2, 3)\n",
    "plt.scatter(proj_isomap[:, 0], proj_isomap[:, 1], c=y_train, cmap=\"Paired\")\n",
    "plt.title(\"Isomap\", fontweight=\"extra bold\", fontsize=30)\n",
    "plt.grid(True, linewidth=1, alpha=0.1)\n",
    "plt.subplot(2, 2, 4)\n",
    "plt.scatter(proj_tsvd[:, 0], proj_tsvd[:, 1], c=y_train, cmap=\"Paired\")\n",
    "plt.title(\"Truncated SVD\", fontweight=\"extra bold\", fontsize=30)\n",
    "plt.grid(True, linewidth=1, alpha=0.1)\n",
    "plt.savefig(\"métodos_reducción.png\")\n",
    "plt.show()"
   ]
  },
  {
   "cell_type": "code",
   "execution_count": null,
   "metadata": {},
   "outputs": [],
   "source": [
    "plt.scatter(intermediates_tsne[:, 0], intermediates_tsne[:, 1], c=y_train, cmap=\"Paired\")\n",
    "plt.title(\"t-SNE\", fontweight=\"extra bold\", fontsize=30)\n",
    "plt.grid(True, linewidth=1, alpha=0.1)"
   ]
  },
  {
   "cell_type": "code",
   "execution_count": null,
   "metadata": {},
   "outputs": [],
   "source": []
  },
  {
   "cell_type": "code",
   "execution_count": null,
   "metadata": {},
   "outputs": [],
   "source": []
  },
  {
   "cell_type": "code",
   "execution_count": null,
   "metadata": {},
   "outputs": [],
   "source": []
  }
 ],
 "metadata": {
  "kernelspec": {
   "display_name": "Python 3",
   "language": "python",
   "name": "python3"
  },
  "language_info": {
   "codemirror_mode": {
    "name": "ipython",
    "version": 3
   },
   "file_extension": ".py",
   "mimetype": "text/x-python",
   "name": "python",
   "nbconvert_exporter": "python",
   "pygments_lexer": "ipython3",
<<<<<<< HEAD
   "version": "3.7.7"
=======
   "version": "3.7.6"
>>>>>>> 8e6c1046fc779abba569e1a2e505d0025fe337cf
  }
 },
 "nbformat": 4,
 "nbformat_minor": 4
}
