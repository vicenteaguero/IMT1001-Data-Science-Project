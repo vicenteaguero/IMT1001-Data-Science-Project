{
 "cells": [
  {
   "cell_type": "code",
   "execution_count": 1,
   "metadata": {
    "colab": {},
    "colab_type": "code",
    "id": "9RKJ-9rjH0DF"
   },
   "outputs": [],
   "source": [
    "import tensorflow_datasets as tdfs\n",
    "import pandas as pd\n",
    "from matplotlib import pyplot as plt\n",
    "from random import randint"
   ]
  },
  {
   "cell_type": "code",
   "execution_count": 2,
   "metadata": {
    "colab": {},
    "colab_type": "code",
    "id": "0uoTLJByITsD"
   },
   "outputs": [],
   "source": [
    "data_train = tdfs.load(\"emnist\", split=\"train\")"
   ]
  },
  {
   "cell_type": "code",
   "execution_count": 3,
   "metadata": {
    "colab": {},
    "colab_type": "code",
    "id": "5tRLA3fDKwNY"
   },
   "outputs": [],
   "source": [
    "data_train_numpy = tdfs.as_numpy(data_train)"
   ]
  },
  {
   "cell_type": "code",
   "execution_count": null,
   "metadata": {
    "colab": {},
    "colab_type": "code",
    "id": "09zP3B0UK1pQ"
   },
   "outputs": [],
   "source": [
    "data = pd.DataFrame(data_train_numpy)"
   ]
  },
  {
   "cell_type": "code",
   "execution_count": null,
   "metadata": {
    "colab": {},
    "colab_type": "code",
    "id": "q15puV2KSGsa"
   },
   "outputs": [],
   "source": [
    "x_train = data[\"image\"].to_numpy()"
   ]
  },
  {
   "cell_type": "code",
   "execution_count": null,
   "metadata": {
    "colab": {},
    "colab_type": "code",
    "id": "BU6sWn8kXJ0r"
   },
   "outputs": [],
   "source": [
    "for image in range (len(x_train)):\n",
    "  x_train[image] = x_train[image].reshape(28, 28).transpose()"
   ]
  },
  {
   "cell_type": "code",
   "execution_count": null,
   "metadata": {
    "colab": {
     "base_uri": "https://localhost:8080/",
     "height": 1000
    },
    "colab_type": "code",
    "id": "U_PO5FQPKt8Z",
    "outputId": "63df82ca-7f63-4ebf-edf8-4525038cd676"
   },
   "outputs": [],
   "source": [
    "fig = plt.figure(figsize=(15, 15))\n",
    "fig.subplots_adjust(left=0, right=1, bottom=0, top=1, hspace=0.05, wspace=0.05)\n",
    "for j in range(256):\n",
    "    i = randint(0, len(x_train) - 1)\n",
    "    ax = fig.add_subplot(16, 16, j + 1, xticks=[], yticks=[])\n",
    "    ax.imshow(x_train[i], cmap=plt.cm.binary, interpolation='nearest')\n",
    "ax.axis(\"on\")\n",
    "fig.savefig('EMNIST TRAIN.png', dpi=fig.dpi, edgecolor=\"purple\")"
   ]
  }
 ],
 "metadata": {
  "colab": {
   "name": "Untitled0.ipynb",
   "provenance": []
  },
  "kernelspec": {
   "display_name": "Python 3",
   "language": "python",
   "name": "python3"
  },
  "language_info": {
   "codemirror_mode": {
    "name": "ipython",
    "version": 3
   },
   "file_extension": ".py",
   "mimetype": "text/x-python",
   "name": "python",
   "nbconvert_exporter": "python",
   "pygments_lexer": "ipython3",
   "version": "3.7.7"
  }
 },
 "nbformat": 4,
 "nbformat_minor": 1
}
